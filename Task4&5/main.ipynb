{
 "cells": [
  {
   "cell_type": "code",
   "execution_count": null,
   "metadata": {},
   "outputs": [],
   "source": [
    "import torch\n",
    "from PIL import Image\n",
    "import torchvision.transforms as transforms\n",
    "import matplotlib.pyplot as plt\n",
    "import os\n",
    "import warnings\n",
    "\n",
    "warnings.filterwarnings(\"ignore\")"
   ]
  },
  {
   "cell_type": "code",
   "execution_count": null,
   "metadata": {},
   "outputs": [],
   "source": [
    "# Get all `.jpg` files dynamically from the current working directory\n",
    "image_directory = f\"{os.curdir}/Task4&5/Chess_dataset/\"\n",
    "image_files = [f for f in os.listdir(image_directory) if f.endswith('.jpg')]\n",
    "image_files.sort(key=lambda x: int(os.path.splitext(x\n",
    "                                                    .replace('.jpg', '')\n",
    "                                                    .replace('(', '')\n",
    "                                                    .replace(')', ''))[0]))\n"
   ]
  },
  {
   "cell_type": "code",
   "execution_count": null,
   "metadata": {},
   "outputs": [],
   "source": [
    "# Load the YOLOv5 model\n",
    "print('Loading model...')\n",
    "model = torch.hub.load('ultralytics/yolov5', 'yolov5s')\n",
    "print('model loaded.')"
   ]
  },
  {
   "cell_type": "code",
   "execution_count": null,
   "metadata": {},
   "outputs": [],
   "source": [
    "# Define the transformation for the input image\n",
    "transform = transforms.Compose([\n",
    "    transforms.Resize((640, 640)),\n",
    "    transforms.ToTensor(),\n",
    "])"
   ]
  },
  {
   "cell_type": "code",
   "execution_count": null,
   "metadata": {},
   "outputs": [],
   "source": [
    "for image in image_files:\n",
    "    # Load and transform the image\n",
    "    file = os.path.join(image_directory, image)\n",
    "    img = Image.open(file).convert('RGB')\n",
    "    img_transformed = transform(img).unsqueeze(0)\n",
    "    \n",
    "    # Perform inference\n",
    "    results = model(img_transformed)"
   ]
  }
 ],
 "metadata": {
  "kernelspec": {
   "display_name": "venv",
   "language": "python",
   "name": "python3"
  },
  "language_info": {
   "name": "python",
   "version": "3.13.1"
  }
 },
 "nbformat": 4,
 "nbformat_minor": 2
}
